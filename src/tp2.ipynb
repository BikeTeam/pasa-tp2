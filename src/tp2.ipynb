{
 "cells": [
  {
   "cell_type": "markdown",
   "id": "grave-morrison",
   "metadata": {},
   "source": [
    "# Procesamiento Adaptativo de Señales Aleatorias\n",
    "# Trabajo Práctico N°2 - Filtro óptimo\n",
    "## Grupo 3\n",
    "* Santiago Arribere\n",
    "* Matías Francois\n",
    "* Joaquín Gaytan\n",
    "* Pablo Scheinfeld"
   ]
  }
 ],
 "metadata": {
  "kernelspec": {
   "display_name": "Python 3",
   "language": "python",
   "name": "python3"
  },
  "language_info": {
   "codemirror_mode": {
    "name": "ipython",
    "version": 3
   },
   "file_extension": ".py",
   "mimetype": "text/x-python",
   "name": "python",
   "nbconvert_exporter": "python",
   "pygments_lexer": "ipython3",
   "version": "3.9.2"
  }
 },
 "nbformat": 4,
 "nbformat_minor": 5
}
