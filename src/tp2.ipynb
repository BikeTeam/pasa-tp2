{
 "cells": [
  {
   "cell_type": "markdown",
   "id": "physical-mailing",
   "metadata": {},
   "source": [
    "# Procesamiento Adaptativo de Señales Aleatorias\n",
    "# Trabajo Práctico N°2 - Filtro óptimo\n",
    "## Grupo 3\n",
    "* Santiago Arribere\n",
    "* Matías Francois\n",
    "* Joaquín Gaytan\n",
    "* Pablo Scheinfeld"
   ]
  },
  {
   "cell_type": "markdown",
   "id": "residential-calcium",
   "metadata": {},
   "source": [
    "# TODO\n",
    "* ¿Verificar hipótesis en las señales? (estacionareidad, media=0)"
   ]
  },
  {
   "cell_type": "markdown",
   "id": "younger-hanging",
   "metadata": {},
   "source": [
    "# 1. Señales de prueba\n",
    "Se buscará medir la respuesta impulsiva de una habitación empleando las siguientes señales de prueba.\n",
    "\n",
    "* Señal de voz\n",
    "* Señal de música\n",
    "* Señal rectangular ($f=100Hz$)\n",
    "* Barrido lineal de frecuencia ($f_0=20Hz$, $f_1=20kHz$)\n",
    "* Barrido exponencial de frecuencia ($f_0=20Hz$, $f_1=20kHz$)\n",
    "* Ruido blanco gaussiano ($\\mu_N = 0$)\n",
    "\n",
    "Cada una de estas señales tendrá una duración de diez segundos."
   ]
  },
  {
   "cell_type": "code",
   "execution_count": 6,
   "id": "discrete-crisis",
   "metadata": {},
   "outputs": [],
   "source": [
    "import numpy as np\n",
    "import matplotlib.pyplot as plt\n",
    "import scipy.signal as sps"
   ]
  },
  {
   "cell_type": "code",
   "execution_count": 7,
   "id": "macro-tours",
   "metadata": {},
   "outputs": [],
   "source": [
    "# Define samplerate for input signals\n",
    "samplerate = 48000 # Hz\n",
    "\n",
    "# Define track length\n",
    "tracklen = 10 # sec"
   ]
  },
  {
   "cell_type": "code",
   "execution_count": 43,
   "id": "alpha-morrison",
   "metadata": {},
   "outputs": [],
   "source": [
    "def print_signal(x, y, title, color='blue', xlim=None):\n",
    "    plt.figure(figsize=(25,5))\n",
    "    plt.plot(x, y, color=color)\n",
    "    plt.grid()\n",
    "    plt.title(title, fontsize=20)\n",
    "    plt.xlabel('Time (sec)')\n",
    "    if (xlim != None) & (len(xlim) == 2):\n",
    "        plt.xlim(xlim[0],xlim[1])\n",
    "    plt.show()"
   ]
  },
  {
   "cell_type": "code",
   "execution_count": 47,
   "id": "atlantic-globe",
   "metadata": {},
   "outputs": [],
   "source": [
    "from scipy.io import wavfile\n",
    "\n",
    "def to_wav(track, samplerate, filename, scale = 1):\n",
    "    scaled_track = np.int16(track*32767*scale)\n",
    "    wavfile.write(filename, samplerate, scaled_track)\n",
    "    return scaled_track"
   ]
  },
  {
   "cell_type": "markdown",
   "id": "arctic-latin",
   "metadata": {},
   "source": [
    "## 1.1 Señal de voz"
   ]
  },
  {
   "cell_type": "markdown",
   "id": "incident-small",
   "metadata": {},
   "source": [
    "## 1.2 Señal de música"
   ]
  },
  {
   "cell_type": "markdown",
   "id": "olympic-timing",
   "metadata": {},
   "source": [
    "## 1.3 Señal rectangular"
   ]
  },
  {
   "cell_type": "code",
   "execution_count": 50,
   "id": "worse-journal",
   "metadata": {},
   "outputs": [
    {
     "data": {
      "image/png": "[encoded data removed]",
      "text/plain": [
       "<Figure size 1800x360 with 1 Axes>"
      ]
     },
     "metadata": {
      "needs_background": "light"
     },
     "output_type": "display_data"
    }
   ],
   "source": [
    "rec_freq = 100 # Hz\n",
    "\n",
    "# Generate square signal\n",
    "t = np.arange(0, tracklen, 1/samplerate)\n",
    "rec = sps.square(t*2*np.pi*rec_freq) \n",
    "\n",
    "# Generate WAV file\n",
    "rec_scaled = to_wav(rec, samplerate, '../assets/test_signals/rectangular.wav', scale=0.9)\n",
    "\n",
    "# Plot scaled signal\n",
    "print_signal(t, rec_scaled, 'Rectangular signal', xlim=(0, 0.05))"
   ]
  },
  {
   "cell_type": "markdown",
   "id": "adverse-dictionary",
   "metadata": {},
   "source": [
    "## 1.4 Barrido lineal de frecuencia"
   ]
  },
  {
   "cell_type": "markdown",
   "id": "classified-survival",
   "metadata": {},
   "source": [
    "## 1.5 Barrido exponencial de frecuencia"
   ]
  },
  {
   "cell_type": "markdown",
   "id": "cultural-harrison",
   "metadata": {},
   "source": [
    "## 1.6 Ruido blanco gaussiano"
   ]
  },
  {
   "cell_type": "code",
   "execution_count": null,
   "id": "clean-cherry",
   "metadata": {},
   "outputs": [],
   "source": []
  }
 ],
 "metadata": {
  "kernelspec": {
   "display_name": "Python 3",
   "language": "python",
   "name": "python3"
  },
  "language_info": {
   "codemirror_mode": {
    "name": "ipython",
    "version": 3
   },
   "file_extension": ".py",
   "mimetype": "text/x-python",
   "name": "python",
   "nbconvert_exporter": "python",
   "pygments_lexer": "ipython3",
   "version": "3.9.2"
  }
 },
 "nbformat": 4,
 "nbformat_minor": 5
}
